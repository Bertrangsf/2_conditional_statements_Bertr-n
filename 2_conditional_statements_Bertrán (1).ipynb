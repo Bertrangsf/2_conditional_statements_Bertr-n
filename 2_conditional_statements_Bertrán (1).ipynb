{
 "cells": [
  {
   "cell_type": "markdown",
   "metadata": {},
   "source": [
    "### Question 1.1 & 1.2"
   ]
  },
  {
   "cell_type": "code",
   "execution_count": 1,
   "metadata": {},
   "outputs": [
    {
     "name": "stdout",
     "output_type": "stream",
     "text": [
      "Enter a number: 1\n",
      "Enter a number: 2\n",
      "a is Odd number\n",
      "a is positive\n",
      "b is Even number\n",
      "b is positive\n"
     ]
    }
   ],
   "source": [
    "a = int(input(\"Enter a number: \"))  \n",
    "b = int(input(\"Enter a number: \"))  \n",
    "\n",
    "if a == 0:\n",
    "    print(\"a is neither even nor odd\")\n",
    "elif (a % 2) == 0:  \n",
    "    print(\"a is Even number\")\n",
    "else:  \n",
    "    print(\"a is Odd number\")\n",
    "if a==0:\n",
    "    print(\"a is zero\")\n",
    "elif a>0:  \n",
    "    print(\"a is positive\")\n",
    "else:  \n",
    "    print(\"a is negative\")\n",
    "    \n",
    "if b==0:\n",
    "    print(\"b is neither even nor odd\")\n",
    "elif (b % 2) == 0:  \n",
    "    print(\"b is Even number\")\n",
    "else:  \n",
    "    print(\"b is Odd number\")\n",
    "if b==0:\n",
    "    print(\"b is zero\")\n",
    "elif b>0:  \n",
    "    print(\"b is positive\")\n",
    "else:  \n",
    "    print(\"b is negative\") "
   ]
  },
  {
   "cell_type": "markdown",
   "metadata": {},
   "source": [
    "### Question 1.3"
   ]
  },
  {
   "cell_type": "code",
   "execution_count": 2,
   "metadata": {},
   "outputs": [
    {
     "name": "stdout",
     "output_type": "stream",
     "text": [
      "Enter you mark in Maths: 89\n",
      "Enter you mark in History: 50\n",
      "Maths grade: B\n",
      "History grade: D\n"
     ]
    }
   ],
   "source": [
    "a = int(input(\"Enter you mark in Maths: \"))  \n",
    "b = int(input(\"Enter you mark in History: \"))  \n",
    "\n",
    "if a>=0 and a<25:\n",
    "    print(\"Maths grade: F\")\n",
    "if a>=25 and a<45:\n",
    "    print(\"Maths grade: E\")\n",
    "if a>=45 and a<60:\n",
    "    print(\"Maths grade: D\")\n",
    "if a>=60 and a<75:\n",
    "    print(\"Maths grade: C\")\n",
    "if a>=75 and a<90:\n",
    "    print(\"Maths grade: B\")\n",
    "if a>=90 and a<=100:\n",
    "    print(\"Maths grade: A\")\n",
    "    \n",
    "if b>=0 and b<25:\n",
    "    print(\"History grade: F\")\n",
    "if b>=25 and b<45:\n",
    "    print(\"History grade: E\")\n",
    "if b>=45 and b<60:\n",
    "    print(\"History grade: D\")\n",
    "if b>=60 and b<75:\n",
    "    print(\"History grade: C\")\n",
    "if b>=75 and b<90:\n",
    "    print(\"History grade: B\")\n",
    "if b>=90 and b<=100:\n",
    "    print(\"History grade: A\")"
   ]
  },
  {
   "cell_type": "markdown",
   "metadata": {},
   "source": [
    "### Question 1.4"
   ]
  },
  {
   "cell_type": "code",
   "execution_count": 3,
   "metadata": {},
   "outputs": [
    {
     "name": "stdout",
     "output_type": "stream",
     "text": [
      "Enter a number: a\n",
      "Enter a number: 5\n",
      "Integers were not entered\n"
     ]
    }
   ],
   "source": [
    "a = input(\"Enter a number: \")  \n",
    "b = input(\"Enter a number: \") \n",
    "\n",
    "if a.replace('.','',1).isdigit() and b.replace('.','',1).isdigit():\n",
    "    a=float(a)          \n",
    "    b=float(b)\n",
    "    if a==0:\n",
    "        print(\"a is neither even nor odd\")\n",
    "    elif (a%2)==0:  \n",
    "        print(\"a is Even number\")\n",
    "    else:  \n",
    "        print(\"a is Odd number\")    \n",
    "    if b==0:\n",
    "        print(\"b is neither even nor odd\")\n",
    "    elif (b%2)==0:  \n",
    "        print(\"b is Even number\")\n",
    "    else:  \n",
    "        print(\"b is Odd number\") \n",
    "else:\n",
    "    print(\"Integers were not entered\")"
   ]
  }
 ],
 "metadata": {
  "kernelspec": {
   "display_name": "Python 3",
   "language": "python",
   "name": "python3"
  },
  "language_info": {
   "codemirror_mode": {
    "name": "ipython",
    "version": 3
   },
   "file_extension": ".py",
   "mimetype": "text/x-python",
   "name": "python",
   "nbconvert_exporter": "python",
   "pygments_lexer": "ipython3",
   "version": "3.8.5"
  }
 },
 "nbformat": 4,
 "nbformat_minor": 4
}
